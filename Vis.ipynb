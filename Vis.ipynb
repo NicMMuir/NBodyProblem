{
 "cells": [
  {
   "cell_type": "code",
   "execution_count": 1,
   "id": "46f08bab-c2ba-48d7-9716-562edafc6cdb",
   "metadata": {},
   "outputs": [],
   "source": [
    "import pydot\n",
    "from IPython.display import SVG\n",
    "import pandas as pd\n",
    "import numpy as np\n",
    "\n",
    "import seaborn as sns\n",
    "import matplotlib.pyplot as plt\n",
    "\n",
    "sns.set()"
   ]
  },
  {
   "cell_type": "code",
   "execution_count": 2,
   "id": "ade8c3bf-2f97-4048-bf04-9b4c8db567eb",
   "metadata": {},
   "outputs": [],
   "source": [
    "# graphs = pydot.graph_from_dot_file(\"dot_files/1.dot\")\n",
    "# graph = graphs[0]"
   ]
  },
  {
   "cell_type": "code",
   "execution_count": 3,
   "id": "ce42b352-b7c5-42f1-bd6d-1be981913230",
   "metadata": {},
   "outputs": [],
   "source": [
    "# # SVG(graph.create_svg())\n",
    "# graph.write_png('output.png')"
   ]
  },
  {
   "cell_type": "code",
   "execution_count": 4,
   "id": "ff39737f-6300-448f-873e-f844ff09e059",
   "metadata": {},
   "outputs": [],
   "source": []
  },
  {
   "cell_type": "code",
   "execution_count": 24,
   "id": "ffe105df-c506-4e1c-ab48-87f0544e5192",
   "metadata": {},
   "outputs": [],
   "source": [
    "points_dict = {}\n",
    "with open(\"data/points.txt\") as f:\n",
    "    line_str = f.readline() \n",
    "    while line_str:\n",
    "        tmp = line_str.split(\"#\")\n",
    "        points = tmp[1].replace(\"\\n\",\"\")\n",
    "        points = points.split(\";\")\n",
    "        points = [[float(x) for x in point.split(\",\")] for point in points]\n",
    "        x_arr = [el[0] for el in points]\n",
    "        y_arr = [el[1] for el in points]\n",
    "        x_vel_arr = [el[2] for el in points]\n",
    "        y_vel_arr = [el[3] for el in points]\n",
    "        points_dict[int(tmp[0])] = {\n",
    "            \"x\":x_arr,\n",
    "            \"y\":y_arr,\n",
    "            \"x_vel\":x_vel_arr,\n",
    "            \"y_vel\":y_vel_arr\n",
    "        }\n",
    "        line_str = f.readline()\n",
    "    "
   ]
  },
  {
   "cell_type": "code",
   "execution_count": 25,
   "id": "1ec4beee-e32a-45f3-aa81-45ff904e6957",
   "metadata": {},
   "outputs": [],
   "source": [
    "# list(points_dict.keys())"
   ]
  },
  {
   "cell_type": "code",
   "execution_count": 31,
   "id": "38651faf-6388-4140-a6f9-900dc458e647",
   "metadata": {},
   "outputs": [
    {
     "data": {
      "text/html": [
       "<div>\n",
       "<style scoped>\n",
       "    .dataframe tbody tr th:only-of-type {\n",
       "        vertical-align: middle;\n",
       "    }\n",
       "\n",
       "    .dataframe tbody tr th {\n",
       "        vertical-align: top;\n",
       "    }\n",
       "\n",
       "    .dataframe thead th {\n",
       "        text-align: right;\n",
       "    }\n",
       "</style>\n",
       "<table border=\"1\" class=\"dataframe\">\n",
       "  <thead>\n",
       "    <tr style=\"text-align: right;\">\n",
       "      <th></th>\n",
       "      <th>x</th>\n",
       "      <th>y</th>\n",
       "      <th>x_vel</th>\n",
       "      <th>y_vel</th>\n",
       "      <th>speed</th>\n",
       "    </tr>\n",
       "  </thead>\n",
       "  <tbody>\n",
       "    <tr>\n",
       "      <th>0</th>\n",
       "      <td>84.176967</td>\n",
       "      <td>39.597662</td>\n",
       "      <td>1.597716</td>\n",
       "      <td>1.590499</td>\n",
       "      <td>2.254414</td>\n",
       "    </tr>\n",
       "    <tr>\n",
       "      <th>1</th>\n",
       "      <td>19.910204</td>\n",
       "      <td>33.577282</td>\n",
       "      <td>1.564875</td>\n",
       "      <td>0.544587</td>\n",
       "      <td>1.656928</td>\n",
       "    </tr>\n",
       "    <tr>\n",
       "      <th>2</th>\n",
       "      <td>47.812777</td>\n",
       "      <td>62.988948</td>\n",
       "      <td>0.731859</td>\n",
       "      <td>1.010312</td>\n",
       "      <td>1.247537</td>\n",
       "    </tr>\n",
       "    <tr>\n",
       "      <th>3</th>\n",
       "      <td>91.756145</td>\n",
       "      <td>63.596987</td>\n",
       "      <td>1.298176</td>\n",
       "      <td>0.233070</td>\n",
       "      <td>1.318932</td>\n",
       "    </tr>\n",
       "    <tr>\n",
       "      <th>4</th>\n",
       "      <td>1.659424</td>\n",
       "      <td>24.448986</td>\n",
       "      <td>0.312878</td>\n",
       "      <td>1.597829</td>\n",
       "      <td>1.628174</td>\n",
       "    </tr>\n",
       "  </tbody>\n",
       "</table>\n",
       "</div>"
      ],
      "text/plain": [
       "           x          y     x_vel     y_vel     speed\n",
       "0  84.176967  39.597662  1.597716  1.590499  2.254414\n",
       "1  19.910204  33.577282  1.564875  0.544587  1.656928\n",
       "2  47.812777  62.988948  0.731859  1.010312  1.247537\n",
       "3  91.756145  63.596987  1.298176  0.233070  1.318932\n",
       "4   1.659424  24.448986  0.312878  1.597829  1.628174"
      ]
     },
     "execution_count": 31,
     "metadata": {},
     "output_type": "execute_result"
    }
   ],
   "source": [
    "df_1 = pd.DataFrame.from_dict(points_dict[1])\n",
    "df_1['speed'] = df_1['x_vel']*df_1['x_vel'] + df_1['y_vel']*df_1['y_vel']\n",
    "df_1['speed'] = np.sqrt(df_1['speed'])\n",
    "df_1.head()"
   ]
  },
  {
   "cell_type": "code",
   "execution_count": null,
   "id": "7cde781b-6aac-4bd9-8a51-0d6e770c914b",
   "metadata": {},
   "outputs": [],
   "source": []
  },
  {
   "cell_type": "code",
   "execution_count": 27,
   "id": "abed2306-d3f6-4106-949e-0e28f462071c",
   "metadata": {},
   "outputs": [
    {
     "data": {
      "image/png": "[encoded data removed]",
      "text/plain": [
       "<Figure size 800x480 with 2 Axes>"
      ]
     },
     "metadata": {},
     "output_type": "display_data"
    }
   ],
   "source": [
    "plt.figure(figsize=(10, 6), dpi=80)\n",
    "plt.scatter(x=df_1['x'], y=df_1['y'], c=df_1['speed'], cmap='seismic')\n",
    "cbar = plt.colorbar()"
   ]
  },
  {
   "cell_type": "code",
   "execution_count": 30,
   "id": "e72ae25f-7cdc-41f1-8246-1b7290ea4f01",
   "metadata": {},
   "outputs": [
    {
     "data": {
      "text/html": [
       "<div>\n",
       "<style scoped>\n",
       "    .dataframe tbody tr th:only-of-type {\n",
       "        vertical-align: middle;\n",
       "    }\n",
       "\n",
       "    .dataframe tbody tr th {\n",
       "        vertical-align: top;\n",
       "    }\n",
       "\n",
       "    .dataframe thead th {\n",
       "        text-align: right;\n",
       "    }\n",
       "</style>\n",
       "<table border=\"1\" class=\"dataframe\">\n",
       "  <thead>\n",
       "    <tr style=\"text-align: right;\">\n",
       "      <th></th>\n",
       "      <th>x</th>\n",
       "      <th>y</th>\n",
       "      <th>x_vel</th>\n",
       "      <th>y_vel</th>\n",
       "      <th>speed</th>\n",
       "    </tr>\n",
       "  </thead>\n",
       "  <tbody>\n",
       "    <tr>\n",
       "      <th>0</th>\n",
       "      <td>-2042.699001</td>\n",
       "      <td>3097.815822</td>\n",
       "      <td>-513.274454</td>\n",
       "      <td>714.233622</td>\n",
       "      <td>879.534156</td>\n",
       "    </tr>\n",
       "    <tr>\n",
       "      <th>1</th>\n",
       "      <td>528.974951</td>\n",
       "      <td>26.944379</td>\n",
       "      <td>122.008198</td>\n",
       "      <td>9.824010</td>\n",
       "      <td>122.403070</td>\n",
       "    </tr>\n",
       "    <tr>\n",
       "      <th>2</th>\n",
       "      <td>93.767148</td>\n",
       "      <td>-119.027367</td>\n",
       "      <td>14.686825</td>\n",
       "      <td>-50.322218</td>\n",
       "      <td>52.421641</td>\n",
       "    </tr>\n",
       "    <tr>\n",
       "      <th>3</th>\n",
       "      <td>320.617136</td>\n",
       "      <td>1044.433587</td>\n",
       "      <td>53.009517</td>\n",
       "      <td>206.782166</td>\n",
       "      <td>213.468670</td>\n",
       "    </tr>\n",
       "    <tr>\n",
       "      <th>4</th>\n",
       "      <td>866.168627</td>\n",
       "      <td>225.976188</td>\n",
       "      <td>213.097161</td>\n",
       "      <td>70.626565</td>\n",
       "      <td>224.496128</td>\n",
       "    </tr>\n",
       "  </tbody>\n",
       "</table>\n",
       "</div>"
      ],
      "text/plain": [
       "             x            y       x_vel       y_vel       speed\n",
       "0 -2042.699001  3097.815822 -513.274454  714.233622  879.534156\n",
       "1   528.974951    26.944379  122.008198    9.824010  122.403070\n",
       "2    93.767148  -119.027367   14.686825  -50.322218   52.421641\n",
       "3   320.617136  1044.433587   53.009517  206.782166  213.468670\n",
       "4   866.168627   225.976188  213.097161   70.626565  224.496128"
      ]
     },
     "execution_count": 30,
     "metadata": {},
     "output_type": "execute_result"
    }
   ],
   "source": [
    "df_2 = pd.DataFrame.from_dict(points_dict[100])\n",
    "df_2['speed'] = df_2['x_vel']*df_2['x_vel'] + df_2['y_vel']*df_2['y_vel']\n",
    "df_2['speed'] = np.sqrt(df_2['speed'])\n",
    "df_2.head()"
   ]
  },
  {
   "cell_type": "code",
   "execution_count": 29,
   "id": "a53c4ab3-781b-45a5-9f38-086f9b608fa7",
   "metadata": {},
   "outputs": [
    {
     "data": {
      "image/png": "[encoded data removed]",
      "text/plain": [
       "<Figure size 800x480 with 2 Axes>"
      ]
     },
     "metadata": {},
     "output_type": "display_data"
    }
   ],
   "source": [
    "plt.figure(figsize=(10, 6), dpi=80)\n",
    "plt.scatter(x=df_2['x'], y=df_2['y'], c=df_2['speed'], cmap='seismic')\n",
    "cbar = plt.colorbar()"
   ]
  },
  {
   "cell_type": "code",
   "execution_count": null,
   "id": "9ef6bbb9-b5c2-4a49-8596-1ebc4d95e657",
   "metadata": {},
   "outputs": [],
   "source": []
  }
 ],
 "metadata": {
  "kernelspec": {
   "display_name": "Python 3",
   "language": "python",
   "name": "python3"
  },
  "language_info": {
   "codemirror_mode": {
    "name": "ipython",
    "version": 3
   },
   "file_extension": ".py",
   "mimetype": "text/x-python",
   "name": "python",
   "nbconvert_exporter": "python",
   "pygments_lexer": "ipython3",
   "version": "3.8.5"
  }
 },
 "nbformat": 4,
 "nbformat_minor": 5
}
